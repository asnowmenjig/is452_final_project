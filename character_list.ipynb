{
 "cells": [
  {
   "cell_type": "code",
   "execution_count": null,
   "metadata": {},
   "outputs": [],
   "source": [
    "#This program parses through a text file, identifies the unique characters, puts them\n",
    "##in a list, then prints that list\n",
    "\n",
    "#This program allows me to identify special characters that need to be converted\n",
    "# in my text cleaning program\n",
    "\n",
    "\n",
    "infile = open('johnson_v1_A.txt','rt', encoding=\"UTF-8\")\n",
    "text = infile.read()\n",
    "infile.close()\n",
    "\n",
    "johnson_v1_list = text.split('\\n')\n",
    "word_counts = dict()\n",
    "letters_list = []\n",
    "other_letters_list = []\n",
    "\n",
    "for line in johnson_v1_list [0:20000]:\n",
    "    line.split()\n",
    "    for word in line.split():\n",
    "        x = list(word)\n",
    "    for char in x:\n",
    "        if char not in letters_list:\n",
    "            letters_list.append(char)\n",
    "        else:\n",
    "            other_letters_list.append(char)\n",
    "letters_list.sort()\n",
    "other_letters_list.sort()\n",
    "print (letters_list)"
   ]
  }
 ],
 "metadata": {
  "kernelspec": {
   "display_name": "Python 3",
   "language": "python",
   "name": "python3"
  },
  "language_info": {
   "codemirror_mode": {
    "name": "ipython",
    "version": 3
   },
   "file_extension": ".py",
   "mimetype": "text/x-python",
   "name": "python",
   "nbconvert_exporter": "python",
   "pygments_lexer": "ipython3",
   "version": "3.7.1"
  }
 },
 "nbformat": 4,
 "nbformat_minor": 2
}
