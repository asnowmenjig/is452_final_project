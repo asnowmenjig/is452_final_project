{
 "cells": [
  {
   "cell_type": "code",
   "execution_count": null,
   "metadata": {},
   "outputs": [],
   "source": [
    "#Determines how many pages are in a chapter section by counting number of occurances of [div class=\"Page\"]\n",
    "\n",
    "infile = open('johnson_v1_A.txt','rt',encoding=\"UTF-8\")\n",
    "text = infile.read()\n",
    "infile.close()\n",
    "\n",
    "section_contents = text.split('\\n')\n",
    "page_count = 0\n",
    "for line in section_contents:\n",
    "    if \"div class=\\\"Page\\\"\" in line:\n",
    "        page_count = page_count + 1\n",
    "\n",
    "print(page_count)"
   ]
  }
 ],
 "metadata": {
  "kernelspec": {
   "display_name": "Python 3",
   "language": "python",
   "name": "python3"
  },
  "language_info": {
   "codemirror_mode": {
    "name": "ipython",
    "version": 3
   },
   "file_extension": ".py",
   "mimetype": "text/x-python",
   "name": "python",
   "nbconvert_exporter": "python",
   "pygments_lexer": "ipython3",
   "version": "3.7.1"
  }
 },
 "nbformat": 4,
 "nbformat_minor": 2
}
