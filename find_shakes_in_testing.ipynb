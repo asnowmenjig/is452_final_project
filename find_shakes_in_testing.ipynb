{
 "cells": [
  {
   "cell_type": "code",
   "execution_count": 5,
   "metadata": {},
   "outputs": [
    {
     "name": "stdout",
     "output_type": "stream",
     "text": [
      "225\n",
      "['count']\n",
      "189755\n"
     ]
    }
   ],
   "source": [
    "#determines how many times Shakespeare is cited in the given CSV of word counts\n",
    "#adds together occurrences of words containing \"shakes\"\n",
    "\n",
    "import csv\n",
    "\n",
    "with open ('wordcounts_v1_A.csv', encoding=\"UTF-8\") as csv_file:\n",
    "    csv_reader = csv.reader(csv_file, delimiter=',')\n",
    "    total_count = 0\n",
    "    other_count = 0\n",
    "    misc_list = []\n",
    "    for row in csv_reader:\n",
    "        if \"shakes\" in row[0]:\n",
    "            total_count = total_count + int(row[1])\n",
    "        elif \"count\" in row[1]:\n",
    "            misc_list.append(row[1])\n",
    "        else:\n",
    "            other_count = other_count + int(row[1])\n",
    "print(total_count)\n",
    "print(misc_list)\n",
    "print(other_count)"
   ]
  },
  {
   "cell_type": "code",
   "execution_count": null,
   "metadata": {},
   "outputs": [],
   "source": []
  }
 ],
 "metadata": {
  "kernelspec": {
   "display_name": "Python 3",
   "language": "python",
   "name": "python3"
  },
  "language_info": {
   "codemirror_mode": {
    "name": "ipython",
    "version": 3
   },
   "file_extension": ".py",
   "mimetype": "text/x-python",
   "name": "python",
   "nbconvert_exporter": "python",
   "pygments_lexer": "ipython3",
   "version": "3.7.1"
  }
 },
 "nbformat": 4,
 "nbformat_minor": 2
}
